{
 "cells": [
  {
   "cell_type": "code",
   "execution_count": 1,
   "metadata": {},
   "outputs": [
    {
     "name": "stdout",
     "output_type": "stream",
     "text": [
      "Student passes the class.\n",
      "The shipping cost is $20.00.\n",
      "The ticket price is $10.80.\n",
      "The triangle is Scalene.\n"
     ]
    }
   ],
   "source": [
    "# 1. Determine if a student passes based on exam score and attendance\n",
    "def check_pass(exam_score, attendance):\n",
    "    if exam_score >= 60:\n",
    "        if attendance >= 75:\n",
    "            print(\"Student passes the class.\")\n",
    "        else:\n",
    "            print(\"Student fails due to low attendance.\")\n",
    "    else:\n",
    "        print(\"Student fails due to low exam score.\")\n",
    "\n",
    "# 2. Determine the shipping cost based on weight and delivery speed\n",
    "def calculate_shipping_cost(weight, delivery_speed):\n",
    "    if weight <= 2:\n",
    "        if delivery_speed == \"standard\":\n",
    "            cost = 5.00\n",
    "        else:\n",
    "            cost = 10.00\n",
    "    elif weight <= 5:\n",
    "        if delivery_speed == \"standard\":\n",
    "            cost = 10.00\n",
    "        else:\n",
    "            cost = 20.00\n",
    "    else:\n",
    "        if delivery_speed == \"standard\":\n",
    "            cost = 20.00\n",
    "        else:\n",
    "            cost = 40.00\n",
    "    print(f\"The shipping cost is ${cost:.2f}.\")\n",
    "\n",
    "# 3. Determine ticket prices based on age with a student discount\n",
    "def ticket_price(age, is_student):\n",
    "    if age < 12:\n",
    "        price = 5.00\n",
    "    elif age <= 18:\n",
    "        price = 8.00\n",
    "    elif age < 65:\n",
    "        price = 12.00\n",
    "        if is_student == \"yes\":\n",
    "            price *= 0.9  # Apply 10% discount for students\n",
    "    else:\n",
    "        price = 10.00  # Senior discount for 65 and above\n",
    "    print(f\"The ticket price is ${price:.2f}.\")\n",
    "\n",
    "# 4. Determine the type of triangle based on side lengths\n",
    "def triangle_type(a, b, c):\n",
    "    if a > 0 and b > 0 and c > 0:\n",
    "        if a + b > c and a + c > b and b + c > a:\n",
    "            if a == b == c:\n",
    "                print(\"The triangle is Equilateral.\")\n",
    "            elif a == b or b == c or a == c:\n",
    "                print(\"The triangle is Isosceles.\")\n",
    "            else:\n",
    "                print(\"The triangle is Scalene.\")\n",
    "        else:\n",
    "            print(\"The given lengths do not form a valid triangle.\")\n",
    "    else:\n",
    "        print(\"Please enter positive numbers for all sides.\")\n",
    "\n",
    "# Function calls with example values\n",
    "# 1. Check pass/fail\n",
    "check_pass(exam_score=70, attendance=80)\n",
    "\n",
    "# 2. Calculate shipping cost\n",
    "calculate_shipping_cost(weight=3, delivery_speed=\"express\")\n",
    "\n",
    "# 3. Ticket price with student discount\n",
    "ticket_price(age=20, is_student=\"yes\")\n",
    "\n",
    "# 4. Triangle type determination\n",
    "triangle_type(a=3, b=4, c=5)\n"
   ]
  }
 ],
 "metadata": {
  "kernelspec": {
   "display_name": "venv",
   "language": "python",
   "name": "python3"
  },
  "language_info": {
   "codemirror_mode": {
    "name": "ipython",
    "version": 3
   },
   "file_extension": ".py",
   "mimetype": "text/x-python",
   "name": "python",
   "nbconvert_exporter": "python",
   "pygments_lexer": "ipython3",
   "version": "3.12.5"
  }
 },
 "nbformat": 4,
 "nbformat_minor": 2
}
