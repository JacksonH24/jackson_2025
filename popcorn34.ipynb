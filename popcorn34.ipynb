{
 "cells": [
  {
   "cell_type": "code",
   "execution_count": null,
   "metadata": {},
   "outputs": [],
   "source": [
    "#Popcorn\n",
    "import re  # Regular expressions module\n",
    "\n",
    "def simple_password_validator(password):\n",
    "    \"\"\"Check if the password meets simple criteria.\"\"\"\n",
    "    if len(password) >= 6:\n",
    "        return True\n",
    "    return False\n",
    "\n",
    "def advanced_password_validator(password):\n",
    "    \"\"\"Check if the password meets advanced criteria.\"\"\"\n",
    "    if (len(password) >= 8 and \n",
    "        re.search(r\"[A-Z]\", password) and     # At least one uppercase letter\n",
    "        re.search(r\"[a-z]\", password) and     # At least one lowercase letter\n",
    "        re.search(r\"[0-9]\", password) and     # At least one digit\n",
    "        re.search(r\"[!@#$%^&*(),.?\\\":{}|<>]\", password)  # At least one special character\n",
    "       ):\n",
    "        return True\n",
    "    return False\n",
    "\n",
    "def validate_password():\n",
    "    # Get the password from the user\n",
    "    password = input(\"Enter a password: \")\n",
    "\n",
    "    # Simple validation\n",
    "    if simple_password_validator(password):\n",
    "        print(\"Simple validation passed.\")\n",
    "    else:\n",
    "        print(\"Simple validation failed: Password must be at least 6 characters long.\")\n",
    "\n",
    "    # Advanced validation\n",
    "    if advanced_password_validator(password):\n",
    "        print(\"Advanced validation passed.\")\n",
    "    else:\n",
    "        print(\"Advanced validation failed: Password must be at least 8 characters long, contain uppercase and lowercase letters, at least one digit, and one special character.\")\n",
    "\n",
    "# Run the password validator\n",
    "validate_password()\n"
   ]
  },
  {
   "cell_type": "code",
   "execution_count": 4,
   "metadata": {},
   "outputs": [
    {
     "ename": "SyntaxError",
     "evalue": "closing parenthesis '}' does not match opening parenthesis '[' on line 11 (2373153914.py, line 19)",
     "output_type": "error",
     "traceback": [
      "\u001b[0;36m  Cell \u001b[0;32mIn[4], line 19\u001b[0;36m\u001b[0m\n\u001b[0;31m    }\u001b[0m\n\u001b[0m    ^\u001b[0m\n\u001b[0;31mSyntaxError\u001b[0m\u001b[0;31m:\u001b[0m closing parenthesis '}' does not match opening parenthesis '[' on line 11\n"
     ]
    }
   ],
   "source": [
    "// Simple Password Validator Function\n",
    "function simplePasswordValidator(password) {\n",
    "    return password.length >= 6;\n",
    "}\n",
    "\n",
    "// Advanced Password Validator Function\n",
    "function advancedPasswordValidator(password) {\n",
    "    const hasUppercase = /[A-Z]/.test(password);   // At least one uppercase letter\n",
    "    const hasLowercase = /[a-z]/.test(password);   // At least one lowercase letter\n",
    "    const hasDigit = /[0-9]/.test(password);       // At least one digit\n",
    "    const hasSpecialChar = /[!@#$%^&*(),.?\":{}|<>]/.test(password); // At least one special character\n",
    "    return (\n",
    "        password.length >= 8 &&\n",
    "        hasUppercase &&\n",
    "        hasLowercase &&\n",
    "        hasDigit &&\n",
    "        hasSpecialChar\n",
    "    );\n",
    "}\n",
    "\n",
    "// Main Validation Function\n",
    "function validatePassword() {\n",
    "    const password = prompt(\"Enter a password:\");\n",
    "\n",
    "    // Simple Validation\n",
    "    if (simplePasswordValidator(password)) {\n",
    "        console.log(\"Simple validation passed.\");\n",
    "    } else {\n",
    "        console.log(\"Simple validation failed: Password must be at least 6 characters long.\");\n",
    "    }\n",
    "\n",
    "    // Advanced Validation\n",
    "    if (advancedPasswordValidator(password)) {\n",
    "        console.log(\"Advanced validation passed.\");\n",
    "    } else {\n",
    "        console.log(\"Advanced validation failed: Password must be at least 8 characters long, contain uppercase and lowercase letters, at least one digit, and one special character.\");\n",
    "    }\n",
    "}\n",
    "\n",
    "// Run the Password Validator\n",
    "validatePassword();"
   ]
  }
 ],
 "metadata": {
  "kernelspec": {
   "display_name": "venv",
   "language": "python",
   "name": "python3"
  },
  "language_info": {
   "codemirror_mode": {
    "name": "ipython",
    "version": 3
   },
   "file_extension": ".py",
   "mimetype": "text/x-python",
   "name": "python",
   "nbconvert_exporter": "python",
   "pygments_lexer": "ipython3",
   "version": "3.12.5"
  }
 },
 "nbformat": 4,
 "nbformat_minor": 2
}
