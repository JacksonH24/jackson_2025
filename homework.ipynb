{
 "cells": [
  {
   "cell_type": "code",
   "execution_count": null,
   "metadata": {},
   "outputs": [],
   "source": [
    "\n",
    "# Ask the user to input two numbers\n",
    "num1 = float(input(\"Enter the first number: \"))\n",
    "num2 = float(input(\"Enter the second number: \"))\n",
    "\n",
    "\n",
    "# Check if the numbers are equal\n",
    "if num1 == num2:\n",
    "    print(\"The numbers are equal.\")\n",
    "# If the numbers are not equal, determine which is larger\n",
    "else:\n",
    "    if num1 > num2:\n",
    "        print(f\"{num1} is larger than {num2}.\")\n",
    "    else:\n",
    "        print(f\"{num2} is larger than {num1}.\")\n"
   ]
  },
  {
   "cell_type": "code",
   "execution_count": null,
   "metadata": {},
   "outputs": [],
   "source": [
    "\n",
    "# 1. Pseudocode to Determine if a Student Passes a Class\n",
    "# Input: exam1_score, exam2_score, attendance\n",
    "# If exam1_score >= 50 AND exam2_score >= 50:\n",
    "#     If attendance >= 75:\n",
    "#         Output: \"Pass\"\n",
    "#     Else:\n",
    "#         Output: \"Fail due to low attendance\"\n",
    "# Else:\n",
    "#     Output: \"Fail due to low exam scores\"\n",
    "\n",
    "# 2. Python Segment to Decide Shipping Cost Based on Weight and Delivery Speed\n",
    "weight = float(input(\"Enter the package weight in kg: \"))\n",
    "delivery_speed = input(\"Enter the delivery speed (standard/express): \")\n",
    "\n",
    "if weight <= 1:\n",
    "    if delivery_speed == \"standard\":\n",
    "        cost = 5.00\n",
    "    else:  # express\n",
    "        cost = 10.00\n",
    "elif weight <= 5:\n",
    "    if delivery_speed == \"standard\":\n",
    "        cost = 10.00\n",
    "    else:  # express\n",
    "        cost = 20.00\n",
    "else:\n",
    "    if delivery_speed == \"standard\":\n",
    "        cost = 15.00\n",
    "    else:  # express\n",
    "        cost = 30.00\n",
    "\n",
    "print(f\"The shipping cost is: ${cost}\")\n",
    "\n",
    "# 3. Python Segment for Ticket Prices Based on Age and Student Discount\n",
    "age = int(input(\"Enter your age: \"))\n",
    "is_student = input(\"Are you a student? (yes/no): \")\n",
    "\n",
    "if age < 12:\n",
    "    price = 5\n",
    "elif age <= 18:\n",
    "    price = 10\n",
    "elif age <= 60:\n",
    "    price = 15\n",
    "else:  # age > 60\n",
    "    price = 8\n",
    "\n",
    "if is_student == \"yes\":\n",
    "    price *= 0.9  # 10% discount for students\n",
    "\n",
    "print(f\"Your ticket price is: ${price:.2f}\")\n"
   ]
  }
 ],
 "metadata": {
  "kernelspec": {
   "display_name": "venv",
   "language": "python",
   "name": "python3"
  },
  "language_info": {
   "codemirror_mode": {
    "name": "ipython",
    "version": 3
   },
   "file_extension": ".py",
   "mimetype": "text/x-python",
   "name": "python",
   "nbconvert_exporter": "python",
   "pygments_lexer": "ipython3",
   "version": "3.12.5"
  }
 },
 "nbformat": 4,
 "nbformat_minor": 2
}
