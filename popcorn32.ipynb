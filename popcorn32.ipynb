{
 "cells": [
  {
   "cell_type": "code",
   "execution_count": null,
   "metadata": {},
   "outputs": [],
   "source": [
    "# Categories and languages for a tech-focused blog\n",
    "coding_topics = {\n",
    "    \"Web Development\": [\"JavaScript\", \"HTML\", \"CSS\", \"Python (Django, Flask)\", \"Ruby (Ruby on Rails)\", \"PHP\"],\n",
    "    \"Data Science\": [\"Python (Pandas, NumPy, SciPy)\", \"R\", \"Julia\", \"SAS\", \"MATLAB\", \"SQL\"],\n",
    "    \"Mobile Development\": [\"Swift\", \"Kotlin\", \"Java\", \"Dart (Flutter)\", \"React Native\", \"C# (Xamarin)\"]\n",
    "}\n",
    "\n",
    "# Print each category with its list of languages\n",
    "for category, languages in coding_topics.items():\n",
    "    print(f\"{category}:\")\n",
    "    for language in languages:\n",
    "        print(f\" - {language}\")\n",
    "    print(\"\\n\")\n"
   ]
  },
  {
   "cell_type": "code",
   "execution_count": null,
   "metadata": {},
   "outputs": [],
   "source": [
    "# Sprints and topics covered for a web development project\n",
    "sprints_content = {\n",
    "    \"Sprint 1\": [\"Frontend Development Basics\", \"GitHub Pages Playground\", \"JavaScript Basics\"],\n",
    "    \"Sprint 2\": [\"HTML & CSS Advanced Techniques\", \"Responsive Web Design\", \"JavaScript DOM Manipulation\"],\n",
    "    \"Sprint 3\": [\"Backend Introduction (Node.js)\", \"API Development\", \"Express.js Basics\"],\n",
    "    \"Sprint 4\": [\"Full Stack Integration\", \"Database Connectivity with MongoDB\", \"Project Deployment\"],\n",
    "    \"Sprint 5\": [\"React Basics\", \"React Component Structure\", \"State Management with Redux\"],\n",
    "}\n",
    "\n",
    "# Displaying the sprint details\n",
    "for sprint, topics in sprints_content.items():\n",
    "    print(f\"{sprint}:\")\n",
    "    for topic in topics:\n",
    "        print(f\" - {topic}\")\n",
    "    print(\"\\n\")\n"
   ]
  },
  {
   "cell_type": "code",
   "execution_count": 3,
   "metadata": {},
   "outputs": [
    {
     "name": "stdout",
     "output_type": "stream",
     "text": [
      "Science Fiction Section:\n",
      " - Dune by Frank Herbert (1965) - Available\n",
      " - Neuromancer by William Gibson (1984) - Checked Out\n",
      "\n",
      "\n",
      "Fantasy Section:\n",
      " - The Hobbit by J.R.R. Tolkien (1937) - Available\n",
      " - Harry Potter and the Sorcerer's Stone by J.K. Rowling (1997) - Checked Out\n",
      "\n",
      "\n",
      "Non-Fiction Section:\n",
      " - Sapiens by Yuval Noah Harari (2011) - Available\n",
      " - Educated by Tara Westover (2018) - Available\n",
      "\n",
      "\n"
     ]
    }
   ],
   "source": [
    "# Library System data structure\n",
    "library_system = {\n",
    "    \"Science Fiction\": [\n",
    "        {\"title\": \"Dune\", \"author\": \"Frank Herbert\", \"year\": 1965, \"available\": True},\n",
    "        {\"title\": \"Neuromancer\", \"author\": \"William Gibson\", \"year\": 1984, \"available\": False}\n",
    "    ],\n",
    "    \"Fantasy\": [\n",
    "        {\"title\": \"The Hobbit\", \"author\": \"J.R.R. Tolkien\", \"year\": 1937, \"available\": True},\n",
    "        {\"title\": \"Harry Potter and the Sorcerer's Stone\", \"author\": \"J.K. Rowling\", \"year\": 1997, \"available\": False}\n",
    "    ],\n",
    "    \"Non-Fiction\": [\n",
    "        {\"title\": \"Sapiens\", \"author\": \"Yuval Noah Harari\", \"year\": 2011, \"available\": True},\n",
    "        {\"title\": \"Educated\", \"author\": \"Tara Westover\", \"year\": 2018, \"available\": True}\n",
    "    ]\n",
    "}\n",
    "\n",
    "# Displaying the Library collection\n",
    "for genre, books in library_system.items():\n",
    "    print(f\"{genre} Section:\")\n",
    "    for book in books:\n",
    "        availability = \"Available\" if book[\"available\"] else \"Checked Out\"\n",
    "        print(f\" - {book['title']} by {book['author']} ({book['year']}) - {availability}\")\n",
    "    print(\"\\n\")\n"
   ]
  }
 ],
 "metadata": {
  "kernelspec": {
   "display_name": "Python 3",
   "language": "python",
   "name": "python3"
  },
  "language_info": {
   "codemirror_mode": {
    "name": "ipython",
    "version": 3
   },
   "file_extension": ".py",
   "mimetype": "text/x-python",
   "name": "python",
   "nbconvert_exporter": "python",
   "pygments_lexer": "ipython3",
   "version": "3.12.6"
  }
 },
 "nbformat": 4,
 "nbformat_minor": 2
}
