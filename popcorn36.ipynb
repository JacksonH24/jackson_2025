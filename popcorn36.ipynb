{
 "cells": [
  {
   "cell_type": "code",
   "execution_count": 1,
   "metadata": {},
   "outputs": [
    {
     "name": "stdout",
     "output_type": "stream",
     "text": [
      "The second number (2.0) is larger.\n"
     ]
    }
   ],
   "source": [
    "# Take input from the user\n",
    "num1 = float(input(\"Enter the first number: \"))\n",
    "num2 = float(input(\"Enter the second number: \"))\n",
    "\n",
    "# Determine if the numbers are equal or different\n",
    "if num1 == num2:\n",
    "    print(\"The numbers are equal.\")\n",
    "else:\n",
    "    if num1 > num2:\n",
    "        print(f\"The first number ({num1}) is larger.\")\n",
    "    else:\n",
    "        print(f\"The second number ({num2}) is larger.\")\n"
   ]
  }
 ],
 "metadata": {
  "kernelspec": {
   "display_name": "venv",
   "language": "python",
   "name": "python3"
  },
  "language_info": {
   "codemirror_mode": {
    "name": "ipython",
    "version": 3
   },
   "file_extension": ".py",
   "mimetype": "text/x-python",
   "name": "python",
   "nbconvert_exporter": "python",
   "pygments_lexer": "ipython3",
   "version": "3.12.5"
  }
 },
 "nbformat": 4,
 "nbformat_minor": 2
}
