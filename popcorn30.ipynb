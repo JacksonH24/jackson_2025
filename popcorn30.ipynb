{
 "cells": [
  {
   "cell_type": "code",
   "execution_count": 4,
   "metadata": {},
   "outputs": [],
   "source": [
    "def output(x):\n",
    "    print(7 * (x + 4) - 6)"
   ]
  },
  {
   "cell_type": "code",
   "execution_count": 3,
   "metadata": {},
   "outputs": [
    {
     "name": "stdout",
     "output_type": "stream",
     "text": [
      "20\n"
     ]
    }
   ],
   "source": [
    "number1 = 5\n",
    "number2 = 1\n",
    "number3 = number1 % number2\n",
    "number4 = number3 * number1 + 20\n",
    "print(number4)"
   ]
  },
  {
   "cell_type": "code",
   "execution_count": 2,
   "metadata": {},
   "outputs": [
    {
     "name": "stdout",
     "output_type": "stream",
     "text": [
      "The remainder when 14 is divided by 3 is 2\n",
      "18 is divisible by 3\n",
      "The remainder when 19 is divided by 3 is 1\n",
      "The remainder when 23 is divided by 3 is 2\n"
     ]
    }
   ],
   "source": [
    "numbers = [14, 18, 19, 23]\n",
    "for num in numbers:\n",
    "    remainder = num % 3\n",
    "    if remainder == 0:\n",
    "        print(num, \"is divisible by 3\")\n",
    "    else:\n",
    "        print(\"The remainder when\", num, \"is divided by 3 is\", remainder)\n"
   ]
  },
  {
   "cell_type": "code",
   "execution_count": 9,
   "metadata": {},
   "outputs": [
    {
     "name": "stdout",
     "output_type": "stream",
     "text": [
      "Invalid choice. Please select fibonacci, area, or volume.\n"
     ]
    }
   ],
   "source": [
    "\n",
    "#Homework \n",
    "\n",
    "import math\n",
    "\n",
    "def calculate():\n",
    "    choice = input(\"What would you like to calculate? (fibonacci, area, volume): \").lower()\n",
    "    \n",
    "    if choice == \"fibonacci\":\n",
    "        n = int(input(\"Enter the term number for the Fibonacci sequence: \"))\n",
    "        if n <= 0:\n",
    "            return \"Input should be a positive integer.\"\n",
    "        elif n == 1:\n",
    "            return \"The 1st term in the Fibonacci sequence is 0.\"\n",
    "        elif n == 2:\n",
    "            return \"The 2nd term in the Fibonacci sequence is 1.\"\n",
    "        else:\n",
    "            a, b = 0, 1\n",
    "            for _ in range(2, n):\n",
    "                a, b = b, a + b\n",
    "            return f\"The {n}-th term in the Fibonacci sequence is {b}.\"\n",
    "    \n",
    "    elif choice == \"area\":\n",
    "        shape = input(\"Enter the shape (circle, square, rectangle): \").lower()\n",
    "        \n",
    "        if shape == \"circle\":\n",
    "            radius = float(input(\"Enter the radius: \"))\n",
    "            area = math.pi * radius ** 2\n",
    "            return f\"The area of the circle is {area}.\"\n",
    "        \n",
    "        elif shape == \"square\":\n",
    "            side = float(input(\"Enter the side length: \"))\n",
    "            area = side ** 2\n",
    "            return f\"The area of the square is {area}.\"\n",
    "        \n",
    "        elif shape == \"rectangle\":\n",
    "            length = float(input(\"Enter the length: \"))\n",
    "            width = float(input(\"Enter the width: \"))\n",
    "            area = length * width\n",
    "            return f\"The area of the rectangle is {area}.\"\n",
    "        \n",
    "        else:\n",
    "            return \"Shape not recognized.\"\n",
    "    \n",
    "    elif choice == \"volume\":\n",
    "        shape = input(\"Enter the shape (rectangular prism, sphere, pyramid): \").lower()\n",
    "        \n",
    "        if shape == \"rectangular prism\":\n",
    "            length = float(input(\"Enter the length: \"))\n",
    "            width = float(input(\"Enter the width: \"))\n",
    "            height = float(input(\"Enter the height: \"))\n",
    "            volume = length * width * height\n",
    "            return f\"The volume of the rectangular prism is {volume}.\"\n",
    "        \n",
    "        elif shape == \"sphere\":\n",
    "            radius = float(input(\"Enter the radius: \"))\n",
    "            volume = (4 / 3) * math.pi * radius ** 3\n",
    "            return f\"The volume of the sphere is {volume}.\"\n",
    "        \n",
    "        elif shape == \"pyramid\":\n",
    "            base = float(input(\"Enter the base area: \"))\n",
    "            height = float(input(\"Enter the height: \"))\n",
    "            volume = (1 / 3) * base * height\n",
    "            return f\"The volume of the pyramid is {volume}.\"\n",
    "        \n",
    "        else:\n",
    "            return \"Shape not recognized.\"\n",
    "    \n",
    "    else:\n",
    "        return \"Invalid choice. Please select fibonacci, area, or volume.\"\n",
    "\n",
    "# Run the calculator function\n",
    "print(calculate())\n"
   ]
  }
 ],
 "metadata": {
  "kernelspec": {
   "display_name": "venv",
   "language": "python",
   "name": "python3"
  },
  "language_info": {
   "codemirror_mode": {
    "name": "ipython",
    "version": 3
   },
   "file_extension": ".py",
   "mimetype": "text/x-python",
   "name": "python",
   "nbconvert_exporter": "python",
   "pygments_lexer": "ipython3",
   "version": "3.12.5"
  }
 },
 "nbformat": 4,
 "nbformat_minor": 2
}
