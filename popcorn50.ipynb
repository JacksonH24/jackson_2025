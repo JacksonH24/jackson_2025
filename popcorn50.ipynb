{
 "cells": [
  {
   "cell_type": "code",
   "execution_count": 3,
   "metadata": {},
   "outputs": [
    {
     "name": "stdout",
     "output_type": "stream",
     "text": [
      "VariableA is true!\n",
      "VariableA is true and Variable B is false\n",
      "Either variableA or variableB is true\n"
     ]
    }
   ],
   "source": [
    "variableA = True\n",
    "variableB = False\n",
    "\n",
    "if variableA:\n",
    "    print(\"VariableA is true!\")\n",
    "else:\n",
    "    print(\"VariableA is false!\")\n",
    "\n",
    "if variableA and not variableB:\n",
    "    print(\"VariableA is true and Variable B is false\")\n",
    "\n",
    "if variableA or varaibleB:\n",
    "    print(\"Either variableA or variableB is true\")  "
   ]
  },
  {
   "cell_type": "code",
   "execution_count": 5,
   "metadata": {},
   "outputs": [
    {
     "name": "stdout",
     "output_type": "stream",
     "text": [
      "number is greater than ten!\n"
     ]
    }
   ],
   "source": [
    "number = 15  # Example value; you can change this to test different cases\n",
    "\n",
    "if number > 10:\n",
    "    print(\"number is greater than ten!\")\n",
    "else:\n",
    "    print(\"number is not greater than ten!\")\n"
   ]
  },
  {
   "cell_type": "code",
   "execution_count": 6,
   "metadata": {},
   "outputs": [
    {
     "name": "stdout",
     "output_type": "stream",
     "text": [
      "number is not three digits!\n"
     ]
    }
   ],
   "source": [
    "if number >= 100 and number <= 999:\n",
    "    print(\"number is three digits!\")\n",
    "else:\n",
    "    print(\"number is not three digits!\")\n"
   ]
  },
  {
   "cell_type": "code",
   "execution_count": 8,
   "metadata": {},
   "outputs": [
    {
     "name": "stdout",
     "output_type": "stream",
     "text": [
      "A      B      !(A and B) == (!A or !B)      !(A or B) == (!A and !B)\n",
      "-------------------------------------------------------------\n",
      "False   False       True                  True\n",
      "False   True       True                  True\n",
      "True   False       True                  True\n",
      "True   True       True                  True\n"
     ]
    }
   ],
   "source": [
    "#Homework\n",
    "\n",
    "def de_morgans_laws():\n",
    "    print(\"A      B      !(A and B) == (!A or !B)      !(A or B) == (!A and !B)\")\n",
    "    print(\"-------------------------------------------------------------\")\n",
    "    \n",
    "    # Define truth values for A and B\n",
    "    values = [False, True]\n",
    "    \n",
    "    for A in values:\n",
    "        for B in values:\n",
    "            # De Morgan's Law 1: !(A and B) == (!A or !B)\n",
    "            law1 = not (A and B) == (not A or not B)\n",
    "            # De Morgan's Law 2: !(A or B) == (!A and !B)\n",
    "            law2 = not (A or B) == (not A and not B)\n",
    "            \n",
    "            # Print the results in a formatted way\n",
    "            print(f\"{A}   {B}       {law1}                  {law2}\")\n",
    "\n",
    "# Run the function\n",
    "de_morgans_laws()\n"
   ]
  }
 ],
 "metadata": {
  "kernelspec": {
   "display_name": "venv",
   "language": "python",
   "name": "python3"
  },
  "language_info": {
   "codemirror_mode": {
    "name": "ipython",
    "version": 3
   },
   "file_extension": ".py",
   "mimetype": "text/x-python",
   "name": "python",
   "nbconvert_exporter": "python",
   "pygments_lexer": "ipython3",
   "version": "3.12.5"
  }
 },
 "nbformat": 4,
 "nbformat_minor": 2
}
